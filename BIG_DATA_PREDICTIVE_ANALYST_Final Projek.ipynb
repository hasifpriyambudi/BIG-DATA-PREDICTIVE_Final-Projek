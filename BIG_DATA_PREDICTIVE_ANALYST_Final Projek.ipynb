{
  "nbformat": 4,
  "nbformat_minor": 0,
  "metadata": {
    "colab": {
      "provenance": []
    },
    "kernelspec": {
      "name": "python3",
      "display_name": "Python 3"
    },
    "language_info": {
      "name": "python"
    }
  },
  "cells": [
    {
      "cell_type": "markdown",
      "source": [
        "Anggota Kelompok :\n",
        "* Hasif Priyambudi\t\t: 20.11.3305\n",
        "* Dafa Dzikri Mawadin\t\t: 20.11.3328\n",
        "* Zaky Muhammad Wahyudi\t: 20.11.3340\n",
        "* Akmal Zulfikar Fadhillah\t: 20.11.3323\n",
        "* Akhmad Khosni Mubarak\t: 20.11.3343\n",
        "\n"
      ],
      "metadata": {
        "id": "QYFMimJEAa7K"
      }
    },
    {
      "cell_type": "code",
      "execution_count": null,
      "metadata": {
        "colab": {
          "base_uri": "https://localhost:8080/"
        },
        "id": "XSkwQ31Wx0-r",
        "outputId": "2bc1ef04-c090-4d6a-80c1-711514bcff5e"
      },
      "outputs": [
        {
          "output_type": "stream",
          "name": "stdout",
          "text": [
            "Looking in indexes: https://pypi.org/simple, https://us-python.pkg.dev/colab-wheels/public/simple/\n",
            "Collecting pyspark\n",
            "  Downloading pyspark-3.3.1.tar.gz (281.4 MB)\n",
            "\u001b[2K     \u001b[90m━━━━━━━━━━━━━━━━━━━━━━━━━━━━━━━━━━━━━━━\u001b[0m \u001b[32m281.4/281.4 MB\u001b[0m \u001b[31m3.9 MB/s\u001b[0m eta \u001b[36m0:00:00\u001b[0m\n",
            "\u001b[?25h  Preparing metadata (setup.py) ... \u001b[?25l\u001b[?25hdone\n",
            "Collecting py4j==0.10.9.5\n",
            "  Downloading py4j-0.10.9.5-py2.py3-none-any.whl (199 kB)\n",
            "\u001b[2K     \u001b[90m━━━━━━━━━━━━━━━━━━━━━━━━━━━━━━━━━━━━━━\u001b[0m \u001b[32m199.7/199.7 KB\u001b[0m \u001b[31m10.6 MB/s\u001b[0m eta \u001b[36m0:00:00\u001b[0m\n",
            "\u001b[?25hBuilding wheels for collected packages: pyspark\n",
            "  Building wheel for pyspark (setup.py) ... \u001b[?25l\u001b[?25hdone\n",
            "  Created wheel for pyspark: filename=pyspark-3.3.1-py2.py3-none-any.whl size=281845512 sha256=8e6aa51fc1f39ecbf24b04ef3df410a0beb4e60bbb37980e9db3c02ff4f35a86\n",
            "  Stored in directory: /root/.cache/pip/wheels/43/dc/11/ec201cd671da62fa9c5cc77078235e40722170ceba231d7598\n",
            "Successfully built pyspark\n",
            "Installing collected packages: py4j, pyspark\n",
            "Successfully installed py4j-0.10.9.5 pyspark-3.3.1\n",
            "Looking in indexes: https://pypi.org/simple, https://us-python.pkg.dev/colab-wheels/public/simple/\n",
            "Collecting findspark\n",
            "  Downloading findspark-2.0.1-py2.py3-none-any.whl (4.4 kB)\n",
            "Installing collected packages: findspark\n",
            "Successfully installed findspark-2.0.1\n"
          ]
        }
      ],
      "source": [
        "!pip install pyspark\n",
        "!pip install findspark"
      ]
    },
    {
      "cell_type": "markdown",
      "source": [
        "# Load Pyspark"
      ],
      "metadata": {
        "id": "sK8gilxs0Dyk"
      }
    },
    {
      "cell_type": "code",
      "source": [
        "from pyspark.sql import SparkSession\n",
        "import seaborn as sns\n",
        "import matplotlib.pyplot as plt\n",
        "from pyspark.ml.feature import HashingTF, IDF, Tokenizer\n",
        "from pyspark.ml.feature import StringIndexer\n",
        "from pyspark.ml import Pipeline\n",
        "from pyspark.ml.classification import LogisticRegression\n",
        "from pyspark.ml.evaluation import MulticlassClassificationEvaluator\n",
        "from pyspark.ml.feature import CountVectorizer, RegexTokenizer\n",
        "from pyspark.mllib.evaluation import MulticlassMetrics\n",
        "from sklearn.metrics import confusion_matrix\n",
        "from sklearn.metrics import plot_confusion_matrix\n",
        "from sklearn.metrics import classification_report"
      ],
      "metadata": {
        "id": "BvoSABr-yAcg"
      },
      "execution_count": null,
      "outputs": []
    },
    {
      "cell_type": "code",
      "source": [
        "spark = SparkSession.builder.getOrCreate()\n",
        "spark = SparkSession.builder\\\n",
        "        .master(\"local\")\\\n",
        "        .appName(\"Final Projek\")\\\n",
        "        .config('spark.ui.port', '4050')\\\n",
        "        .getOrCreate()\n",
        "\n",
        "spark\n",
        "sc = spark.sparkContext"
      ],
      "metadata": {
        "id": "30_sED-vyf-t"
      },
      "execution_count": null,
      "outputs": []
    },
    {
      "cell_type": "markdown",
      "source": [
        "# Load Data"
      ],
      "metadata": {
        "id": "TjTh5EIW0GqN"
      }
    },
    {
      "cell_type": "code",
      "source": [
        "df = spark.read.option(\"header\", True).csv(\"data.csv\")"
      ],
      "metadata": {
        "id": "_Pm_SgxzyrrJ"
      },
      "execution_count": null,
      "outputs": []
    },
    {
      "cell_type": "code",
      "source": [
        "df.show(5)"
      ],
      "metadata": {
        "colab": {
          "base_uri": "https://localhost:8080/"
        },
        "id": "4-ei1e6A0Brz",
        "outputId": "30488d9a-3a48-4291-8dc4-e0acf020ca6f"
      },
      "execution_count": null,
      "outputs": [
        {
          "output_type": "stream",
          "name": "stdout",
          "text": [
            "+--------------------+---------+\n",
            "|            Sentence|Sentiment|\n",
            "+--------------------+---------+\n",
            "|The GeoSolutions ...| positive|\n",
            "|$ESI on lows, dow...| negative|\n",
            "|For the last quar...| positive|\n",
            "|According to the ...|  neutral|\n",
            "|The Swedish buyou...|  neutral|\n",
            "+--------------------+---------+\n",
            "only showing top 5 rows\n",
            "\n"
          ]
        }
      ]
    },
    {
      "cell_type": "code",
      "source": [
        "df.count()"
      ],
      "metadata": {
        "colab": {
          "base_uri": "https://localhost:8080/"
        },
        "id": "iSJdKKLM4oF8",
        "outputId": "b404b2ab-d53c-4be5-f52b-2cc926f845bc"
      },
      "execution_count": null,
      "outputs": [
        {
          "output_type": "execute_result",
          "data": {
            "text/plain": [
              "5842"
            ]
          },
          "metadata": {},
          "execution_count": 7
        }
      ]
    },
    {
      "cell_type": "markdown",
      "source": [
        "# Pre-processing"
      ],
      "metadata": {
        "id": "1_kTnLbC4dLo"
      }
    },
    {
      "cell_type": "code",
      "source": [
        "# Menghapus Data Kosong\n",
        "df = df.dropna()"
      ],
      "metadata": {
        "id": "xzPM2-xU4gE1"
      },
      "execution_count": null,
      "outputs": []
    },
    {
      "cell_type": "code",
      "source": [
        "# Menghapus Data Duplicate\n",
        "df = df.dropDuplicates()"
      ],
      "metadata": {
        "id": "R4tvRDeS40FQ"
      },
      "execution_count": null,
      "outputs": []
    },
    {
      "cell_type": "code",
      "source": [
        "# Melihat class y yang akan diprediksi\n",
        "df.select(\"Sentiment\").distinct().collect()"
      ],
      "metadata": {
        "colab": {
          "base_uri": "https://localhost:8080/"
        },
        "id": "mHZmTO5p5FuB",
        "outputId": "69c7f37f-9e33-40dc-9053-1e2848335e65"
      },
      "execution_count": null,
      "outputs": [
        {
          "output_type": "execute_result",
          "data": {
            "text/plain": [
              "[Row(Sentiment='positive'),\n",
              " Row(Sentiment='neutral'),\n",
              " Row(Sentiment='negative'),\n",
              " Row(Sentiment=' the damage is done. No one wants to touch it now\"')]"
            ]
          },
          "metadata": {},
          "execution_count": 10
        }
      ]
    },
    {
      "cell_type": "code",
      "source": [
        "# Menghapus class y yang memiliki data \"the damage is done. No One wants to touch it now\"\n",
        "df = df.filter(df.Sentiment != ' the damage is done. No one wants to touch it now\"')"
      ],
      "metadata": {
        "id": "l0ikuBfK5bFm"
      },
      "execution_count": null,
      "outputs": []
    },
    {
      "cell_type": "code",
      "source": [
        "# Meliihat Total Data\n",
        "sentiment = df.select(\"Sentiment\").toPandas()\n",
        "sns.countplot(x='Sentiment', data=sentiment)"
      ],
      "metadata": {
        "colab": {
          "base_uri": "https://localhost:8080/",
          "height": 296
        },
        "id": "yBpJaNgP3es3",
        "outputId": "8632ba9e-5d40-4446-8980-9369a8984226"
      },
      "execution_count": null,
      "outputs": [
        {
          "output_type": "execute_result",
          "data": {
            "text/plain": [
              "<matplotlib.axes._subplots.AxesSubplot at 0x7f720b341d00>"
            ]
          },
          "metadata": {},
          "execution_count": 12
        },
        {
          "output_type": "display_data",
          "data": {
            "text/plain": [
              "<Figure size 432x288 with 1 Axes>"
            ],
            "image/png": "[encoded data removed]"
          },
          "metadata": {
            "needs_background": "light"
          }
        }
      ]
    },
    {
      "cell_type": "markdown",
      "source": [
        "# Balancing Data"
      ],
      "metadata": {
        "id": "YW9ZjJWwE-RU"
      }
    },
    {
      "cell_type": "markdown",
      "source": [
        "## Balancing Negative ke Neutral"
      ],
      "metadata": {
        "id": "ep-igM9vGddE"
      }
    },
    {
      "cell_type": "code",
      "source": [
        "minority_class = df[df.Sentiment == \"negative\"]\n",
        "majority_class = df[df.Sentiment == \"neutral\"]\n",
        "sampling_minority_class = minority_class.sample(True, majority_class.count() / minority_class.count())\n",
        "\n",
        "# Concatenate the two classes\n",
        "balanced_df = majority_class.union(sampling_minority_class)"
      ],
      "metadata": {
        "id": "8k_d_9VpIN0v"
      },
      "execution_count": null,
      "outputs": []
    },
    {
      "cell_type": "markdown",
      "source": [
        "## Balancing Positive ke Neutral"
      ],
      "metadata": {
        "id": "Rxbpj_fjGlnN"
      }
    },
    {
      "cell_type": "code",
      "source": [
        "minority_class = df[df.Sentiment == \"positive\"]\n",
        "majority_class = df[df.Sentiment == \"neutral\"]\n",
        "sampling_minority_class = minority_class.sample(True, majority_class.count() / minority_class.count())\n",
        "\n",
        "# Concatenate the two classes\n",
        "df = balanced_df.union(sampling_minority_class)"
      ],
      "metadata": {
        "id": "58c3TViIIZ8L"
      },
      "execution_count": null,
      "outputs": []
    },
    {
      "cell_type": "markdown",
      "source": [
        "## Persebaran Data"
      ],
      "metadata": {
        "id": "VSmCCq7PIrKe"
      }
    },
    {
      "cell_type": "code",
      "source": [
        "# Meliihat Total Data\n",
        "sentiment = df.select(\"Sentiment\").toPandas()\n",
        "sns.countplot(x='Sentiment', data=sentiment)"
      ],
      "metadata": {
        "colab": {
          "base_uri": "https://localhost:8080/",
          "height": 296
        },
        "id": "SdA10DDIEqv2",
        "outputId": "ae1b87a3-7d2f-4693-aaf6-ad48f31bb91d"
      },
      "execution_count": null,
      "outputs": [
        {
          "output_type": "execute_result",
          "data": {
            "text/plain": [
              "<matplotlib.axes._subplots.AxesSubplot at 0x7f720b1143d0>"
            ]
          },
          "metadata": {},
          "execution_count": 15
        },
        {
          "output_type": "display_data",
          "data": {
            "text/plain": [
              "<Figure size 432x288 with 1 Axes>"
            ],
            "image/png": "[encoded data removed]"
          },
          "metadata": {
            "needs_background": "light"
          }
        }
      ]
    },
    {
      "cell_type": "markdown",
      "source": [
        "# Split Data train, test, val"
      ],
      "metadata": {
        "id": "5K4FEiCIJV16"
      }
    },
    {
      "cell_type": "code",
      "source": [
        "(train_set, val_set) = df.randomSplit([0.80, 0.20], seed = 2000)"
      ],
      "metadata": {
        "id": "3eM66lm8JZag"
      },
      "execution_count": null,
      "outputs": []
    },
    {
      "cell_type": "markdown",
      "source": [
        "# Modelling"
      ],
      "metadata": {
        "id": "hJu6a275S_Py"
      }
    },
    {
      "cell_type": "markdown",
      "source": [
        "## RegexTokenizer+CountVector+Logistic Regression"
      ],
      "metadata": {
        "id": "XymknjyqS53N"
      }
    },
    {
      "cell_type": "code",
      "source": [
        "# regular expression tokenizer\n",
        "regexTokenizer = RegexTokenizer(inputCol=\"Sentence\", outputCol=\"words\", pattern=\"\\\\W\")\n",
        "# bag of words count\n",
        "countVectors = CountVectorizer(inputCol=\"words\", outputCol=\"features\", vocabSize=30000, minDF=5)\n",
        "# Label String\n",
        "label_stringIdx = StringIndexer(inputCol=\"Sentiment\", outputCol = \"label\")\n",
        "lr = LogisticRegression(maxIter=20, regParam=0.3, elasticNetParam=0)\n",
        "pipeline = Pipeline(stages=[regexTokenizer, countVectors, label_stringIdx, lr])"
      ],
      "metadata": {
        "id": "cM3YwflzR9AN"
      },
      "execution_count": null,
      "outputs": []
    },
    {
      "cell_type": "code",
      "source": [
        "pipelineFit = pipeline.fit(train_set)\n",
        "predictions = pipelineFit.transform(val_set)"
      ],
      "metadata": {
        "id": "LkQo2vbbUIIC"
      },
      "execution_count": null,
      "outputs": []
    },
    {
      "cell_type": "markdown",
      "source": [
        "## CountVectorizer + IDF + Logistic Regression"
      ],
      "metadata": {
        "id": "Ikn5SgB_8F2N"
      }
    },
    {
      "cell_type": "code",
      "source": [
        "tokenizer2 = Tokenizer(inputCol=\"Sentence\", outputCol=\"words\")\n",
        "cv2 = CountVectorizer(vocabSize=2**16, inputCol=\"words\", outputCol='cv')\n",
        "idf2 = IDF(inputCol='cv', outputCol=\"features\", minDocFreq=5) #minDocFreq: remove sparse terms\n",
        "label_stringIdx2 = StringIndexer(inputCol = \"Sentiment\", outputCol = \"label\")\n",
        "lr = LogisticRegression(maxIter=20, regParam=0.3, elasticNetParam=0)\n",
        "pipeline2 = Pipeline(stages=[tokenizer2, cv2, idf2, label_stringIdx2, lr])"
      ],
      "metadata": {
        "id": "M0wBBhA6AUYX"
      },
      "execution_count": null,
      "outputs": []
    },
    {
      "cell_type": "code",
      "source": [
        "pipelineFit2 = pipeline2.fit(train_set)\n",
        "predictions2 = pipelineFit2.transform(val_set)"
      ],
      "metadata": {
        "id": "YoNkLyuZDa6l"
      },
      "execution_count": null,
      "outputs": []
    },
    {
      "cell_type": "markdown",
      "source": [
        "# Evaluasi"
      ],
      "metadata": {
        "id": "jUm48p7FOvGm"
      }
    },
    {
      "cell_type": "markdown",
      "source": [
        "## RegexTokenizer+CountVector+Logistic Regression"
      ],
      "metadata": {
        "id": "x1zkTjBKZl1B"
      }
    },
    {
      "cell_type": "code",
      "source": [
        "evaluator = MulticlassClassificationEvaluator(predictionCol=\"prediction\", labelCol=\"label\")"
      ],
      "metadata": {
        "id": "0TpCCLUzZ6KT"
      },
      "execution_count": null,
      "outputs": []
    },
    {
      "cell_type": "code",
      "source": [
        "accuracy = predictions.filter(predictions.label == predictions.prediction).count() / float(val_set.count())\n",
        "roc_auc = evaluator.evaluate(predictions)"
      ],
      "metadata": {
        "id": "nmlIwXaDZ89F"
      },
      "execution_count": null,
      "outputs": []
    },
    {
      "cell_type": "code",
      "source": [
        "print(\"Accuracy Score: {0:.4f}\".format(accuracy))\n",
        "print(\"ROC-AUC: {0:.4f}\".format(roc_auc))"
      ],
      "metadata": {
        "colab": {
          "base_uri": "https://localhost:8080/"
        },
        "id": "eyqZOxXtaGOP",
        "outputId": "11e54216-0239-42bd-aa9c-8f72cfb0c12f"
      },
      "execution_count": null,
      "outputs": [
        {
          "output_type": "stream",
          "name": "stdout",
          "text": [
            "Accuracy Score: 0.8312\n",
            "ROC-AUC: 0.8299\n"
          ]
        }
      ]
    },
    {
      "cell_type": "markdown",
      "source": [
        "## CountVectorizer + IDF + Logistic Regression"
      ],
      "metadata": {
        "id": "AqUJHsvEZjco"
      }
    },
    {
      "cell_type": "code",
      "source": [
        "evaluator2 = MulticlassClassificationEvaluator(predictionCol=\"prediction\", labelCol=\"label\")"
      ],
      "metadata": {
        "id": "c00bHlnTOYqq"
      },
      "execution_count": null,
      "outputs": []
    },
    {
      "cell_type": "code",
      "source": [
        "accuracy2 = predictions2.filter(predictions2.label == predictions2.prediction).count() / float(val_set.count())\n",
        "roc_auc2 = evaluator2.evaluate(predictions2)"
      ],
      "metadata": {
        "id": "lu5tgONsN-ng"
      },
      "execution_count": null,
      "outputs": []
    },
    {
      "cell_type": "code",
      "source": [
        "print(\"Accuracy Score: {0:.4f}\".format(accuracy2))\n",
        "print(\"ROC-AUC: {0:.4f}\".format(roc_auc2))"
      ],
      "metadata": {
        "colab": {
          "base_uri": "https://localhost:8080/"
        },
        "id": "RIQORtafLQwq",
        "outputId": "c55b881b-7f7b-46a3-a182-798d2704f395"
      },
      "execution_count": null,
      "outputs": [
        {
          "output_type": "stream",
          "name": "stdout",
          "text": [
            "Accuracy Score: 0.8418\n",
            "ROC-AUC: 0.8413\n"
          ]
        }
      ]
    },
    {
      "cell_type": "markdown",
      "source": [
        "# Confusion Matrix"
      ],
      "metadata": {
        "id": "5OLwV3YMQH7s"
      }
    },
    {
      "cell_type": "markdown",
      "source": [
        "## RegexTokenizer+CountVector+Logistic Regression"
      ],
      "metadata": {
        "id": "7XWshF4ObiGi"
      }
    },
    {
      "cell_type": "code",
      "source": [
        "prediction_and_label_rdd = predictions.select(\"prediction\", \"label\").rdd.map(lambda x: (x[0], x[1]))\n",
        "\n",
        "# Create a MulticlassMetrics object\n",
        "metrics = MulticlassMetrics(prediction_and_label_rdd)\n",
        "\n",
        "# Print the confusion matrix\n",
        "print(metrics.confusionMatrix())"
      ],
      "metadata": {
        "colab": {
          "base_uri": "https://localhost:8080/"
        },
        "id": "-jTATAFrbmgQ",
        "outputId": "cb6a262c-8cdb-435b-f48b-cca4a857d44f"
      },
      "execution_count": null,
      "outputs": [
        {
          "output_type": "stream",
          "name": "stderr",
          "text": [
            "/usr/local/lib/python3.8/dist-packages/pyspark/sql/context.py:157: FutureWarning: Deprecated in 3.0.0. Use SparkSession.builder.getOrCreate() instead.\n",
            "  warnings.warn(\n"
          ]
        },
        {
          "output_type": "stream",
          "name": "stdout",
          "text": [
            "DenseMatrix([[438., 108.,  58.],\n",
            "             [ 42., 569.,  15.],\n",
            "             [ 66.,  29., 559.]])\n"
          ]
        }
      ]
    },
    {
      "cell_type": "code",
      "source": [
        "prediksi = predictions.select(\"prediction\").rdd.flatMap(lambda x: x).collect()\n",
        "labels = predictions.select(\"label\").rdd.flatMap(lambda x: x).collect()\n",
        "\n",
        "# Create a confusion matrix\n",
        "cm = confusion_matrix(labels, prediksi)\n",
        "\n",
        "# Plot the confusion matrix using seaborn\n",
        "sns.heatmap(cm, annot=True, fmt=\".0f\")\n",
        "plt.show()"
      ],
      "metadata": {
        "colab": {
          "base_uri": "https://localhost:8080/",
          "height": 265
        },
        "id": "2jxgMVz_cB0C",
        "outputId": "0192fd1b-0444-4ecd-dc2e-6f0fba490580"
      },
      "execution_count": null,
      "outputs": [
        {
          "output_type": "display_data",
          "data": {
            "text/plain": [
              "<Figure size 432x288 with 2 Axes>"
            ],
            "image/png": "[encoded data removed]"
          },
          "metadata": {
            "needs_background": "light"
          }
        }
      ]
    },
    {
      "cell_type": "code",
      "source": [
        "y_true = predictions.select(['label']).collect()\n",
        "y_pred = predictions.select(['prediction']).collect()\n",
        "print(classification_report(y_true, y_pred))"
      ],
      "metadata": {
        "colab": {
          "base_uri": "https://localhost:8080/"
        },
        "id": "TrljsYkLkzsW",
        "outputId": "ea27450c-4efc-40ee-8ccc-d55c74a8aeb1"
      },
      "execution_count": null,
      "outputs": [
        {
          "output_type": "stream",
          "name": "stdout",
          "text": [
            "              precision    recall  f1-score   support\n",
            "\n",
            "         0.0       0.80      0.73      0.76       604\n",
            "         1.0       0.81      0.91      0.85       626\n",
            "         2.0       0.88      0.85      0.87       654\n",
            "\n",
            "    accuracy                           0.83      1884\n",
            "   macro avg       0.83      0.83      0.83      1884\n",
            "weighted avg       0.83      0.83      0.83      1884\n",
            "\n"
          ]
        }
      ]
    },
    {
      "cell_type": "markdown",
      "source": [
        "## CountVectorizer + IDF + Logistic Regression"
      ],
      "metadata": {
        "id": "JK9XRTDmbdTc"
      }
    },
    {
      "cell_type": "code",
      "source": [
        "prediction_and_label_rdd2 = predictions2.select(\"prediction\", \"label\").rdd.map(lambda x: (x[0], x[1]))\n",
        "\n",
        "# Create a MulticlassMetrics object\n",
        "metrics2 = MulticlassMetrics(prediction_and_label_rdd2)\n",
        "\n",
        "# Print the confusion matrix\n",
        "print(metrics2.confusionMatrix())"
      ],
      "metadata": {
        "colab": {
          "base_uri": "https://localhost:8080/"
        },
        "id": "ZOLO2-X6NxD2",
        "outputId": "6c289d6e-8216-46be-844e-c5e733f76460"
      },
      "execution_count": null,
      "outputs": [
        {
          "output_type": "stream",
          "name": "stderr",
          "text": [
            "/usr/local/lib/python3.8/dist-packages/pyspark/sql/context.py:157: FutureWarning: Deprecated in 3.0.0. Use SparkSession.builder.getOrCreate() instead.\n",
            "  warnings.warn(\n"
          ]
        },
        {
          "output_type": "stream",
          "name": "stdout",
          "text": [
            "DenseMatrix([[458.,  99.,  47.],\n",
            "             [ 49., 561.,  16.],\n",
            "             [ 62.,  25., 567.]])\n"
          ]
        }
      ]
    },
    {
      "cell_type": "code",
      "source": [
        "prediksi2 = predictions2.select(\"prediction\").rdd.flatMap(lambda x: x).collect()\n",
        "labels2 = predictions2.select(\"label\").rdd.flatMap(lambda x: x).collect()\n",
        "\n",
        "# Create a confusion matrix\n",
        "cm2 = confusion_matrix(labels2, prediksi2)\n",
        "\n",
        "# Plot the confusion matrix using seaborn\n",
        "sns.heatmap(cm2, annot=True, fmt=\".0f\")\n",
        "plt.show()"
      ],
      "metadata": {
        "colab": {
          "base_uri": "https://localhost:8080/",
          "height": 265
        },
        "id": "VC6G9IPQQKum",
        "outputId": "b9188277-4bf8-4d53-bd46-04397867e6d4"
      },
      "execution_count": null,
      "outputs": [
        {
          "output_type": "display_data",
          "data": {
            "text/plain": [
              "<Figure size 432x288 with 2 Axes>"
            ],
            "image/png": "[encoded data removed]"
          },
          "metadata": {
            "needs_background": "light"
          }
        }
      ]
    },
    {
      "cell_type": "code",
      "source": [
        "y_true2 = predictions2.select(['label']).collect()\n",
        "y_pred2 = predictions2.select(['prediction']).collect()\n",
        "print(classification_report(y_true2, y_pred2))"
      ],
      "metadata": {
        "id": "lpFaM3idQk6a",
        "colab": {
          "base_uri": "https://localhost:8080/"
        },
        "outputId": "a1f0996b-1f18-402a-9e1c-96206d377626"
      },
      "execution_count": null,
      "outputs": [
        {
          "output_type": "stream",
          "name": "stdout",
          "text": [
            "              precision    recall  f1-score   support\n",
            "\n",
            "         0.0       0.80      0.76      0.78       604\n",
            "         1.0       0.82      0.90      0.86       626\n",
            "         2.0       0.90      0.87      0.88       654\n",
            "\n",
            "    accuracy                           0.84      1884\n",
            "   macro avg       0.84      0.84      0.84      1884\n",
            "weighted avg       0.84      0.84      0.84      1884\n",
            "\n"
          ]
        }
      ]
    },
    {
      "cell_type": "code",
      "source": [],
      "metadata": {
        "id": "ssfhD13_l6bk"
      },
      "execution_count": null,
      "outputs": []
    }
  ]
}